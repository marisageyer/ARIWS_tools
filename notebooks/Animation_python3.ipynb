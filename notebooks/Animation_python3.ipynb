{
 "cells": [
  {
   "cell_type": "code",
   "execution_count": 1,
   "id": "9668b124",
   "metadata": {},
   "outputs": [],
   "source": [
    "import numpy as np\n",
    "\n",
    "import matplotlib\n",
    "matplotlib.use('TKAgg')\n",
    "\n",
    "from matplotlib import pyplot as plt\n",
    "#from matplotlib import animation"
   ]
  },
  {
   "cell_type": "code",
   "execution_count": 11,
   "id": "00b74869",
   "metadata": {},
   "outputs": [],
   "source": [
    "# \"\"\"\n",
    "# Matplotlib Animation Example\n",
    "\n",
    "# author: Jake Vanderplas\n",
    "# email: vanderplas@astro.washington.edu\n",
    "# website: http://jakevdp.github.com\n",
    "# license: BSD\n",
    "# Please feel free to use and modify this, but keep the above information. Thanks!\n",
    "# \"\"\"\n",
    "\n",
    "\n",
    "\n",
    "# # First set up the figure, the axis, and the plot element we want to animate\n",
    "# fig = plt.figure()\n",
    "# ax = plt.axes(xlim=(0, 2), ylim=(-2, 2))\n",
    "# line, = ax.plot([], [], lw=2)\n",
    "\n",
    "# # initialization function: plot the background of each frame\n",
    "# def init():\n",
    "#     line.set_data([], [])\n",
    "#     return line,\n",
    "\n",
    "# # animation function.  This is called sequentially\n",
    "# def animate(i):\n",
    "#     x = np.linspace(0, 2, 1000)\n",
    "#     y = np.sin(2 * np.pi * (x - 0.01 * i))\n",
    "#     line.set_data(x, y)\n",
    "#     return line,\n",
    "\n",
    "# # call the animator.  blit=True means only re-draw the parts that have changed.\n",
    "# anim = animation.FuncAnimation(fig, animate, init_func=init,\n",
    "#                                frames=200, interval=20, blit=True)\n",
    "\n",
    "# # save the animation as an mp4.  This requires ffmpeg or mencoder to be\n",
    "# # installed.  The extra_args ensure that the x264 codec is used, so that\n",
    "# # the video can be embedded in html5.  You may need to adjust this for\n",
    "# # your system: for more information, see\n",
    "# # http://matplotlib.sourceforge.net/api/animation_api.html\n",
    "# ##anim.save('basic_animation.mp4', fps=30, extra_args=['-vcodec', 'libx264'])\n",
    "\n",
    "# ##plt.show()"
   ]
  },
  {
   "cell_type": "code",
   "execution_count": 2,
   "id": "cbf008de",
   "metadata": {},
   "outputs": [],
   "source": [
    "data_time = np.loadtxt('time_series.txt')\n",
    "data_time = np.roll(data_time, -50)\n",
    "data_time = data_time"
   ]
  },
  {
   "cell_type": "code",
   "execution_count": 3,
   "id": "9bb66bcf",
   "metadata": {},
   "outputs": [
    {
     "name": "stdout",
     "output_type": "stream",
     "text": [
      "226\n"
     ]
    }
   ],
   "source": [
    "MEASUREMENT_TIME = len(data_time)\n",
    "print(MEASUREMENT_TIME)\n",
    "INTERVAL_SEC = 0.005\n",
    "maxpoints = [0.005]\n",
    "for i in range(MEASUREMENT_TIME):\n",
    "   \n",
    "    #data = np.random.rand(100)\n",
    "    data = data_time[i]\n",
    "    maxpoint = np.max(data_time[i])\n",
    "    maxpoints.append(maxpoint)\n",
    "    #print(maxpoints)\n",
    "\n",
    "    plt.plot(data)\n",
    "    plt.plot(i, np.max(data),'r-o')\n",
    "    plt.axhline(np.max(data), ls='dotted', color='r', alpha=0.5)\n",
    "    plt.plot(maxpoints)\n",
    "\n",
    "    # figure appearence adjustments\n",
    "    plt.ylim(-0.001, 0.007)\n",
    "    plt.title(f'FRAME {i+1}')\n",
    "\n",
    "    # to avoid clearing last plot\n",
    "    if (i != MEASUREMENT_TIME-1):\n",
    "        plt.draw()\n",
    "        plt.pause(INTERVAL_SEC)\n",
    "        plt.cla()\n",
    "    else:\n",
    "        plt.show()\n",
    "        \n",
    "#plt.close()"
   ]
  },
  {
   "cell_type": "code",
   "execution_count": null,
   "id": "b5c9d4ba",
   "metadata": {},
   "outputs": [],
   "source": []
  }
 ],
 "metadata": {
  "kernelspec": {
   "display_name": "Python 3",
   "language": "python",
   "name": "python3"
  },
  "language_info": {
   "codemirror_mode": {
    "name": "ipython",
    "version": 3
   },
   "file_extension": ".py",
   "mimetype": "text/x-python",
   "name": "python",
   "nbconvert_exporter": "python",
   "pygments_lexer": "ipython3",
   "version": "3.7.3"
  }
 },
 "nbformat": 4,
 "nbformat_minor": 5
}
